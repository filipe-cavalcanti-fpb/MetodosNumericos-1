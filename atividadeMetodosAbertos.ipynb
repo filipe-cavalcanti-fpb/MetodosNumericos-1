{
 "cells": [
  {
   "cell_type": "code",
   "execution_count": 151,
   "metadata": {},
   "outputs": [],
   "source": [
    "import numpy as np\n",
    "import matplotlib.pyplot as plt\n",
    "import scipy.optimize as opt\n",
    "import pandas as pd"
   ]
  },
  {
   "cell_type": "code",
   "execution_count": 146,
   "metadata": {},
   "outputs": [],
   "source": [
    "def point_fixo(f,x,tol):\n",
    "    E = []\n",
    "    X0 = [x]\n",
    "    X1 = []\n",
    "    erro = np.inf\n",
    "    \n",
    "    while(erro > tol):\n",
    "        x_it = f(X0[-1])\n",
    "        erro = np.abs((x_it - X0[-1])/x_it)\n",
    "        X1.append(x_it)\n",
    "        X0.append(x_it)\n",
    "        \n",
    "        E.append(erro)\n",
    "    return X0, X1, E\n",
    "\n",
    "def met_secante(f,x, tol=10e-10):\n",
    "    E = []\n",
    "    X0 = [0,x]\n",
    "    X1 = []\n",
    "    erro = np.inf\n",
    "    while(erro > tol):\n",
    "        x_it = X0[-1] - (f(X0[-1])*(X0[-2] - X0[-1]))/(f(X0[-2])-f(X0[-1]))\n",
    "        erro = np.abs((x_it - X0[-1])/x_it)\n",
    "        X1.append(x_it)\n",
    "        X0.append(x_it)\n",
    "        E.append(erro)\n",
    "    return X0, X1, E\n",
    "\n",
    "def newton_aphson(f, flinha, x, tol):\n",
    "    E = []\n",
    "    X0 = [x]\n",
    "    X1 = []\n",
    "    erro = np.inf\n",
    "    while(erro > tol):\n",
    "        x_it = X0[-1] - f(X0[-1])/flinha(X0[-1])\n",
    "        erro = np.abs((x_it - X0[-1])/x_it)\n",
    "        X1.append(x_it)\n",
    "        X0.append(x_it)\n",
    "        E.append(erro)\n",
    "    return X0, X1, E"
   ]
  },
  {
   "cell_type": "code",
   "execution_count": 149,
   "metadata": {},
   "outputs": [],
   "source": [
    "def f(x):\n",
    "    return np.cos(x)+x\n",
    "\n",
    "def flinha(x):\n",
    "    return -np.sin(x)+1"
   ]
  },
  {
   "cell_type": "code",
   "execution_count": 152,
   "metadata": {},
   "outputs": [
    {
     "data": {
      "text/html": [
       "<div>\n",
       "<style scoped>\n",
       "    .dataframe tbody tr th:only-of-type {\n",
       "        vertical-align: middle;\n",
       "    }\n",
       "\n",
       "    .dataframe tbody tr th {\n",
       "        vertical-align: top;\n",
       "    }\n",
       "\n",
       "    .dataframe thead th {\n",
       "        text-align: right;\n",
       "    }\n",
       "</style>\n",
       "<table border=\"1\" class=\"dataframe\">\n",
       "  <thead>\n",
       "    <tr style=\"text-align: right;\">\n",
       "      <th></th>\n",
       "      <th>xi</th>\n",
       "      <th>e</th>\n",
       "    </tr>\n",
       "  </thead>\n",
       "  <tbody>\n",
       "    <tr>\n",
       "      <th>0</th>\n",
       "      <td>-1.3242136964608284</td>\n",
       "      <td>1.3775825618903728</td>\n",
       "    </tr>\n",
       "    <tr>\n",
       "      <th>1</th>\n",
       "      <td>-0.5225007114915501</td>\n",
       "      <td>1.5343768292308702</td>\n",
       "    </tr>\n",
       "    <tr>\n",
       "      <th>2</th>\n",
       "      <td>-0.7161875698608974</td>\n",
       "      <td>0.2704415247069513</td>\n",
       "    </tr>\n",
       "    <tr>\n",
       "      <th>3</th>\n",
       "      <td>-0.7403244941019919</td>\n",
       "      <td>0.032603168520545026</td>\n",
       "    </tr>\n",
       "  </tbody>\n",
       "</table>\n",
       "</div>"
      ],
      "text/plain": [
       "                    xi                     e\n",
       "0  -1.3242136964608284    1.3775825618903728\n",
       "1  -0.5225007114915501    1.5343768292308702\n",
       "2  -0.7161875698608974    0.2704415247069513\n",
       "3  -0.7403244941019919  0.032603168520545026"
      ]
     },
     "execution_count": 152,
     "metadata": {},
     "output_type": "execute_result"
    }
   ],
   "source": [
    "x1, x0, e = met_secante(f,0.5,10e-2)\n",
    "\n",
    "pd.DataFrame({'xi':x0,'e':e},dtype=str)"
   ]
  }
 ],
 "metadata": {
  "kernelspec": {
   "display_name": "Python 3",
   "language": "python",
   "name": "python3"
  },
  "language_info": {
   "codemirror_mode": {
    "name": "ipython",
    "version": 3
   },
   "file_extension": ".py",
   "mimetype": "text/x-python",
   "name": "python",
   "nbconvert_exporter": "python",
   "pygments_lexer": "ipython3",
   "version": "3.6.5"
  }
 },
 "nbformat": 4,
 "nbformat_minor": 2
}
