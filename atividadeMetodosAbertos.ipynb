{
 "cells": [
  {
   "cell_type": "code",
   "execution_count": 2,
   "metadata": {},
   "outputs": [],
   "source": [
    "import numpy as np"
   ]
  },
  {
   "cell_type": "code",
   "execution_count": 8,
   "metadata": {},
   "outputs": [],
   "source": [
    "def point_fixo(f,x, tol):\n",
    "    E = np.array([])\n",
    "    X0 = np.array([x])\n",
    "    X1 = np.array([])\n",
    "    erro = 0.1\n",
    "    while(erro > tol):\n",
    "        x_it = f(X0[-1])\n",
    "        erro = np.abs(x_it, X0[-1]/x_it)\n",
    "        np.append(X1, x_it)\n",
    "        np.append(X0, x_it)\n",
    "        np.append(E, erro)\n",
    "    return X0, X1, E\n",
    "\n",
    "def met_secante(f,x, tol):\n",
    "    E = np.array([])\n",
    "    X0 = np.array([x])\n",
    "    X1 = np.array([])\n",
    "    erro = 0.1\n",
    "    while(erro > tol):\n",
    "        x_it = X[-1] - ((f(X0[-1]))*(X0[-2]-X0[-1]))/(f(X0[-2])-f(X0[-1]))\n",
    "        erro = np.abs(x_it, X0[-1]/x_it)\n",
    "        np.append(X1, x_it)\n",
    "        np.append(X0, x_it)\n",
    "        np.append(E, erro)\n",
    "    return X0, X1, E\n",
    "\n",
    "def newton_rephson(f, flinha, x, tol):\n",
    "    E = np.array([])\n",
    "    X0 = np.array([x])\n",
    "    X1 = np.array([])\n",
    "    erro = 0.1\n",
    "    while(erro > tol):\n",
    "        x_it = X0[-1] - f(X0[-1])/flinha(X0[-1])\n",
    "        erro = np.abs(x_it, X0[-1]/x_it)\n",
    "        np.append(X1, x_it)\n",
    "        np.append(X0, x_it)\n",
    "        np.append(E, erro)\n",
    "    return X0, X1, E"
   ]
  },
  {
   "cell_type": "code",
   "execution_count": 11,
   "metadata": {},
   "outputs": [],
   "source": [
    "def f(x):\n",
    "    return np.exp(-x)\n",
    "def flinha(x):\n",
    "    return 1"
   ]
  },
  {
   "cell_type": "code",
   "execution_count": 14,
   "metadata": {},
   "outputs": [
    {
     "data": {
      "text/plain": [
       "(array([-1]), array([], dtype=float64), array([], dtype=float64))"
      ]
     },
     "execution_count": 14,
     "metadata": {},
     "output_type": "execute_result"
    }
   ],
   "source": [
    "point_fixo(f, -1, 0.1)"
   ]
  }
 ],
 "metadata": {
  "kernelspec": {
   "display_name": "Python 3",
   "language": "python",
   "name": "python3"
  },
  "language_info": {
   "codemirror_mode": {
    "name": "ipython",
    "version": 3
   },
   "file_extension": ".py",
   "mimetype": "text/x-python",
   "name": "python",
   "nbconvert_exporter": "python",
   "pygments_lexer": "ipython3",
   "version": "3.6.5"
  }
 },
 "nbformat": 4,
 "nbformat_minor": 2
}
