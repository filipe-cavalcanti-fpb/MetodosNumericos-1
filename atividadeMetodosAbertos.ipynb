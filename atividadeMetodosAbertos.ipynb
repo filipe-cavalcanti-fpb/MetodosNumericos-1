{
 "cells": [
  {
   "cell_type": "code",
   "execution_count": 59,
   "metadata": {},
   "outputs": [],
   "source": [
    "import numpy as np\n",
    "import matplotlib.pyplot as plt\n",
    "import scipy.optimize as opt\n",
    "import pandas as pd"
   ]
  },
  {
   "cell_type": "code",
   "execution_count": 60,
   "metadata": {},
   "outputs": [],
   "source": [
    "#Exercicio 1\n",
    "def point_fixo(f,x,tol):\n",
    "    E = []\n",
    "    X0 = [x]\n",
    "    X1 = []\n",
    "    erro = np.inf\n",
    "    while(erro > tol):\n",
    "        x_it = f(X0[-1])\n",
    "        print(x_it)\n",
    "        erro = np.abs((x_it - X0[-1])/x_it)\n",
    "        X1.append(x_it)\n",
    "        X0.append(x_it)\n",
    "        \n",
    "        E.append(erro)\n",
    "    return X0, X1, E\n",
    "\n",
    "def met_secante(f,x, tol=10e-10):\n",
    "    E = []\n",
    "    X0 = [0,x]\n",
    "    X1 = []\n",
    "    erro = np.inf\n",
    "    while(erro > tol):\n",
    "        x_it = X0[-1] - (f(X0[-1])*(X0[-2] - X0[-1]))/(f(X0[-2])-f(X0[-1]))\n",
    "        erro = np.abs((x_it - X0[-1])/x_it)\n",
    "        X1.append(x_it)\n",
    "        X0.append(x_it)\n",
    "        E.append(erro)\n",
    "    return X0, X1, E\n",
    "\n",
    "def newton_aphson(f, flinha, x, tol):\n",
    "    E = []\n",
    "    X0 = [x]\n",
    "    X1 = []\n",
    "    erro = np.inf\n",
    "    while(erro > tol):\n",
    "        x_it = X0[-1] - f(X0[-1])/flinha(X0[-1])\n",
    "        erro = np.abs((x_it - X0[-1])/x_it)\n",
    "        X1.append(x_it)\n",
    "        X0.append(x_it)\n",
    "        E.append(erro)\n",
    "    return X0, X1, E"
   ]
  },
  {
   "cell_type": "code",
   "execution_count": 17,
   "metadata": {},
   "outputs": [
    {
     "data": {
      "text/html": [
       "<div>\n",
       "<style scoped>\n",
       "    .dataframe tbody tr th:only-of-type {\n",
       "        vertical-align: middle;\n",
       "    }\n",
       "\n",
       "    .dataframe tbody tr th {\n",
       "        vertical-align: top;\n",
       "    }\n",
       "\n",
       "    .dataframe thead th {\n",
       "        text-align: right;\n",
       "    }\n",
       "</style>\n",
       "<table border=\"1\" class=\"dataframe\">\n",
       "  <thead>\n",
       "    <tr style=\"text-align: right;\">\n",
       "      <th></th>\n",
       "      <th>xi</th>\n",
       "      <th>e</th>\n",
       "    </tr>\n",
       "  </thead>\n",
       "  <tbody>\n",
       "    <tr>\n",
       "      <th>0</th>\n",
       "      <td>1.0</td>\n",
       "      <td>1.0</td>\n",
       "    </tr>\n",
       "    <tr>\n",
       "      <th>1</th>\n",
       "      <td>0.5403023058681398</td>\n",
       "      <td>0.8508157176809255</td>\n",
       "    </tr>\n",
       "    <tr>\n",
       "      <th>2</th>\n",
       "      <td>0.8575532158463934</td>\n",
       "      <td>0.3699489479088844</td>\n",
       "    </tr>\n",
       "    <tr>\n",
       "      <th>3</th>\n",
       "      <td>0.6542897904977791</td>\n",
       "      <td>0.3106626884609844</td>\n",
       "    </tr>\n",
       "    <tr>\n",
       "      <th>4</th>\n",
       "      <td>0.7934803587425656</td>\n",
       "      <td>0.17541778660452648</td>\n",
       "    </tr>\n",
       "    <tr>\n",
       "      <th>5</th>\n",
       "      <td>0.7013687736227565</td>\n",
       "      <td>0.13133117495954122</td>\n",
       "    </tr>\n",
       "    <tr>\n",
       "      <th>6</th>\n",
       "      <td>0.7639596829006542</td>\n",
       "      <td>0.08192959743667133</td>\n",
       "    </tr>\n",
       "  </tbody>\n",
       "</table>\n",
       "</div>"
      ],
      "text/plain": [
       "                   xi                    e\n",
       "0                 1.0                  1.0\n",
       "1  0.5403023058681398   0.8508157176809255\n",
       "2  0.8575532158463934   0.3699489479088844\n",
       "3  0.6542897904977791   0.3106626884609844\n",
       "4  0.7934803587425656  0.17541778660452648\n",
       "5  0.7013687736227565  0.13133117495954122\n",
       "6  0.7639596829006542  0.08192959743667133"
      ]
     },
     "execution_count": 17,
     "metadata": {},
     "output_type": "execute_result"
    }
   ],
   "source": [
    "#Exercicio 2\n",
    "def f(x):\n",
    "    return np.cos(x)\n",
    "\n",
    "x1, x0, e = point_fixo(f,0,10e-2)\n",
    "\n",
    "pd.DataFrame({'xi':x0,'e':e},dtype=str)"
   ]
  },
  {
   "cell_type": "code",
   "execution_count": 48,
   "metadata": {},
   "outputs": [],
   "source": [
    "#Exercicios 3\n",
    "def f(x):\n",
    "    return (x**10)-1\n",
    "def flinha(x):\n",
    "    return 10*(x**9)"
   ]
  },
  {
   "cell_type": "code",
   "execution_count": 43,
   "metadata": {},
   "outputs": [
    {
     "name": "stdout",
     "output_type": "stream",
     "text": [
      "CPU times: user 4 ms, sys: 0 ns, total: 4 ms\n",
      "Wall time: 1.31 ms\n"
     ]
    }
   ],
   "source": [
    "%%time\n",
    "x1, x0, e = newton_aphson(f,flinha,0.5,10e-12)"
   ]
  },
  {
   "cell_type": "code",
   "execution_count": 44,
   "metadata": {},
   "outputs": [
    {
     "name": "stdout",
     "output_type": "stream",
     "text": [
      "CPU times: user 0 ns, sys: 0 ns, total: 0 ns\n",
      "Wall time: 88.9 µs\n"
     ]
    }
   ],
   "source": [
    "%%time\n",
    "dx1, dx0, de = met_secante(f,0.5,10e-12)"
   ]
  },
  {
   "cell_type": "code",
   "execution_count": 46,
   "metadata": {},
   "outputs": [
    {
     "name": "stdout",
     "output_type": "stream",
     "text": [
      "CPU times: user 0 ns, sys: 0 ns, total: 0 ns\n",
      "Wall time: 67.9 µs\n"
     ]
    },
    {
     "data": {
      "text/plain": [
       "0.5001499999999982"
      ]
     },
     "execution_count": 46,
     "metadata": {},
     "output_type": "execute_result"
    }
   ],
   "source": [
    "%%time\n",
    "opt.newton(func=f,x0=0.5)"
   ]
  },
  {
   "cell_type": "code",
   "execution_count": 51,
   "metadata": {},
   "outputs": [
    {
     "name": "stdout",
     "output_type": "stream",
     "text": [
      "CPU times: user 0 ns, sys: 0 ns, total: 0 ns\n",
      "Wall time: 233 µs\n"
     ]
    },
    {
     "data": {
      "text/plain": [
       "1.0"
      ]
     },
     "execution_count": 51,
     "metadata": {},
     "output_type": "execute_result"
    }
   ],
   "source": [
    "%%time\n",
    "opt.newton(func=f,fprime=flinha,x0=0.5)"
   ]
  },
  {
   "cell_type": "code",
   "execution_count": 61,
   "metadata": {},
   "outputs": [
    {
     "data": {
      "text/plain": [
       "[<matplotlib.lines.Line2D at 0x7f747ff487b8>]"
      ]
     },
     "execution_count": 61,
     "metadata": {},
     "output_type": "execute_result"
    },
    {
     "data": {
      "image/png": "[encoded data removed]",
      "text/plain": [
       "<Figure size 432x288 with 1 Axes>"
      ]
     },
     "metadata": {},
     "output_type": "display_data"
    }
   ],
   "source": [
    "#Exercicio 4\n",
    "def f4(x): \n",
    "    return np.exp(-(x-1)**2)\n",
    "\n",
    "\n",
    "def f4linha(x): \n",
    "    return (-0.5*x+2.5)/2\n",
    "\n",
    "\n",
    "x = np.linspace(0, 5)\n",
    "plt.grid(True)\n",
    "plt.plot(x, f4(x))\n",
    "plt.plot(x, f4linha(x))\n",
    "plt.plot\n",
    "plt.plot(3, 1/2, marker='o')"
   ]
  },
  {
   "cell_type": "code",
   "execution_count": null,
   "metadata": {},
   "outputs": [],
   "source": [
    "#Exercicio 5\n"
   ]
  }
 ],
 "metadata": {
  "kernelspec": {
   "display_name": "Python 3",
   "language": "python",
   "name": "python3"
  },
  "language_info": {
   "codemirror_mode": {
    "name": "ipython",
    "version": 3
   },
   "file_extension": ".py",
   "mimetype": "text/x-python",
   "name": "python",
   "nbconvert_exporter": "python",
   "pygments_lexer": "ipython3",
   "version": "3.6.5"
  }
 },
 "nbformat": 4,
 "nbformat_minor": 2
}
